{
  "nbformat": 4,
  "nbformat_minor": 0,
  "metadata": {
    "colab": {
      "name": "Блокнот_МихайловВА_ПИ-321.ipynb",
      "provenance": [],
      "collapsed_sections": [],
      "toc_visible": true
    },
    "kernelspec": {
      "name": "python3",
      "display_name": "Python 3"
    },
    "language_info": {
      "name": "python"
    }
  },
  "cells": [
    {
      "cell_type": "code",
      "execution_count": null,
      "metadata": {
        "id": "mREJD5Be5w6D"
      },
      "outputs": [],
      "source": [
        ""
      ]
    },
    {
      "cell_type": "markdown",
      "source": [
        "\n",
        "\n",
        "# Раздел 1-ого уровня\n",
        "## Раздел 2-ого уровня\n",
        "### Раздел 3-его уровня\n",
        "| Заглавная  | Строчная   |Название|\n",
        "| ------- | -------- |--------|\n",
        "| Α   | α   |Альфа|\n",
        "| Β  | β    |Бета|\n",
        "| Γ  | γ   |Гамма|\n",
        "| Δ  | δ    |Делта|\n",
        "| Ε  | ϵ ɛ    |Эпсилон|\n",
        "| Ζ  | ζ    |Дзета|\n",
        "| Η  | η    |Эта|\n",
        "| Θ  | θ ϑ   |Тета|\n",
        "| Ι  | ι    |Йота|\n",
        "| Κ  | κ ϰ    |Каппа|\n",
        "| Λ  | λ    |Лямбда|\n",
        "| Μ  | μ    |Мю|\n",
        "| Ν  | ν    |Ню|\n",
        "| Ξ  | ξ    |Кси|\n",
        "| O  | o    |Омикрон|\n",
        "| Π  | π ϖ    |Пи|\n",
        "| Ρ  | ρ ϱ   |Ро|\n",
        "| Σ  | σ ς    |Сигма|\n",
        "| Τ  | τ     |Тау|\n",
        "| Υ  | υ    |Испилон|\n",
        "| Φ  | ϕ φ   |Фи|\n",
        "| Χ  | χ    |Хи|\n",
        "| Ψ  | ψ   |Пси|\n",
        "| Ω  | ω   |Омега|\n",
        "\n",
        "  Формула нормального распределения в формате latex \n",
        "  $${\\frac{1}{\\sigma\\sqrt{2\\pi}}\n",
        "   \\exp\\left(-\\frac{(x-\\mu)^2}{2\\sigma^2}\\right)}$$\n",
        "\n"
      ],
      "metadata": {
        "id": "q2U42zGr6lmI"
      }
    }
  ]
}